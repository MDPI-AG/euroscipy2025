{
 "cells": [
  {
   "cell_type": "markdown",
   "id": "771e0c04",
   "metadata": {},
   "source": [
    "# Erdos-computation with plain Python"
   ]
  },
  {
   "cell_type": "code",
   "execution_count": null,
   "id": "85bda000",
   "metadata": {
    "ExecuteTime": {
     "end_time": "2025-08-14T07:09:45.977742Z",
     "start_time": "2025-08-14T07:09:45.843378Z"
    }
   },
   "outputs": [],
   "source": [
    "from erdos1_plainpython import load_ndjson, attach_authors, build_coauthorship_matrix, erdos\n"
   ]
  },
  {
   "cell_type": "markdown",
   "id": "8d8b1d80",
   "metadata": {},
   "source": [
    "## Data loading\n",
    "\n",
    "Loading datasets from NDJSON files and inspect the first examples. The dataset consists of two entities: Scientific publications (aka **Articles**) and their **Authors**. The dataset is build using all publications from MDPI's Plant journal and their authors. The many-to-many relationship is between Authors and Articles is modelled with a product entities: **Authorship**.\n",
    "\n",
    "![Data model](images/data_model.drawio.png)\n",
    "\n",
    "Articles have the following attributes:\n",
    "  * **title:** The title of the publication.\n",
    "  * **publication_date:** The date when the open-access publication was first published on mdpi.com.\n",
    "  * **doi:** The Digital Object Identifier of the publication. The DOI uniquely identifies every scientific publication. \n",
    "\n",
    "Authors have the following attributes:\n",
    "    * **id:** A unique and sequential identifier used as row and column indices to build a 2d co-authorship matrix. The matrix is needed as input to Dijkstra's shortest path algorithm.\n",
    "    * **lastname:** The lastname of the author.\n",
    "    * **given_names:** All given names of the author, separated by spaces.\n",
    "    * **orcid:** A unique identifier, intended to uniquely identify scholars and their publication list.\n"
   ]
  },
  {
   "cell_type": "code",
   "execution_count": null,
   "id": "069ab6fa",
   "metadata": {
    "ExecuteTime": {
     "end_time": "2025-08-14T07:09:47.138390Z",
     "start_time": "2025-08-14T07:09:47.088306Z"
    }
   },
   "outputs": [],
   "source": [
    "articles = load_ndjson(\"esp2025_articles.ndjson\")\n",
    "\n",
    "# Display the first two articles. Each article has he following properties.\n",
    "articles[:2]"
   ]
  },
  {
   "cell_type": "code",
   "execution_count": null,
   "id": "ada3e016",
   "metadata": {},
   "outputs": [],
   "source": [
    "authors = load_ndjson(\"esp2025_authors.ndjson\")\n",
    "\n",
    "# Display the first two authors. Each author has the following properties.\n",
    "authors[:2]"
   ]
  },
  {
   "cell_type": "code",
   "execution_count": null,
   "id": "68cd3f22",
   "metadata": {},
   "outputs": [],
   "source": [
    "authorships = load_ndjson(\"esp2025_authorships.ndjson\")\n",
    "\n",
    "# Display the some authorship relationships. Author 0000-0001-8056-7215 appear as author of two distinct articles.\n",
    "authorships[3:5]"
   ]
  },
  {
   "cell_type": "markdown",
   "id": "f59dbec7",
   "metadata": {},
   "source": [
    "## Resolving many-to-many relationship\n",
    "\n",
    "For our purpose, it's more convenient to attach all authors of a publication to the publication itself. We can achieve this in two steps.\n",
    "* First, we build a mapping from article DOI to all authorship relations for the article.\n",
    "* Second, we build a mapping from author ORCID to author objects.\n",
    "* Finally, we iterate over all articles, fetch all authorship relations and attach the authors to a new property called `authors`."
   ]
  },
  {
   "cell_type": "code",
   "execution_count": null,
   "id": "80c61bc9",
   "metadata": {},
   "outputs": [],
   "source": [
    "fat_articles = attach_authors(articles, authors, authorships)"
   ]
  },
  {
   "cell_type": "code",
   "execution_count": null,
   "id": "bdf4a478",
   "metadata": {},
   "outputs": [],
   "source": [
    "a = fat_articles"
   ]
  },
  {
   "cell_type": "code",
   "execution_count": null,
   "id": "f825a04b",
   "metadata": {},
   "outputs": [],
   "source": [
    "# Let's looks at an example. Please not that the order of authors may differ from the paper."
   ]
  },
  {
   "cell_type": "markdown",
   "id": "1e504919",
   "metadata": {},
   "source": [
    "## Build co-authorship matrix\n"
   ]
  },
  {
   "cell_type": "code",
   "execution_count": null,
   "id": "a38643b8",
   "metadata": {},
   "outputs": [],
   "source": [
    "coauthorship = build_coauthorship_matrix(fat_articles)"
   ]
  },
  {
   "cell_type": "code",
   "execution_count": null,
   "id": "2008c6f7",
   "metadata": {},
   "outputs": [],
   "source": [
    "assert coauthorship[1, 2] == 0  # Author 1 and 2 are not coauthors"
   ]
  },
  {
   "cell_type": "code",
   "execution_count": null,
   "id": "d53ec708",
   "metadata": {},
   "outputs": [],
   "source": [
    "assert coauthorship[1, 4998] == 1 # Author 1 and 4998 wrote a publication together\n",
    "assert coauthorship[4998, 1] == 1 # Author 1 and 4998 wrote a publication together"
   ]
  },
  {
   "cell_type": "markdown",
   "id": "270df8f5",
   "metadata": {},
   "source": [
    "## Find shortest path"
   ]
  },
  {
   "cell_type": "code",
   "execution_count": null,
   "id": "26b4364f",
   "metadata": {},
   "outputs": [],
   "source": [
    "authors[4], authors[990]"
   ]
  },
  {
   "cell_type": "code",
   "execution_count": null,
   "id": "e3d95f11",
   "metadata": {},
   "outputs": [],
   "source": [
    "erdos(coauthorship, 4, 990)"
   ]
  },
  {
   "cell_type": "code",
   "execution_count": null,
   "id": "ea8afa6a",
   "metadata": {},
   "outputs": [],
   "source": []
  }
 ],
 "metadata": {
  "kernelspec": {
   "display_name": "tutorial",
   "language": "python",
   "name": "python3"
  },
  "language_info": {
   "codemirror_mode": {
    "name": "ipython",
    "version": 3
   },
   "file_extension": ".py",
   "mimetype": "text/x-python",
   "name": "python",
   "nbconvert_exporter": "python",
   "pygments_lexer": "ipython3",
   "version": "3.12.11"
  }
 },
 "nbformat": 4,
 "nbformat_minor": 5
}
