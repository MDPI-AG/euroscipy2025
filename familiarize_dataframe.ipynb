{
 "cells": [
  {
   "cell_type": "markdown",
   "id": "771e0c04",
   "metadata": {},
   "source": [
    "# Version 4: Erdos-computation with DataFrames"
   ]
  },
  {
   "cell_type": "code",
   "execution_count": null,
   "id": "85bda000",
   "metadata": {},
   "outputs": [],
   "source": [
    "from erdos4_dataframe import load_ndjson, erdos, build_coauthorship_matrix"
   ]
  },
  {
   "cell_type": "markdown",
   "id": "8d8b1d80",
   "metadata": {},
   "source": [
    "## Data loading"
   ]
  },
  {
   "cell_type": "code",
   "execution_count": null,
   "id": "069ab6fa",
   "metadata": {},
   "outputs": [],
   "source": [
    "articles = load_ndjson(\"esp2025_articles.ndjson\")\n",
    "authors = load_ndjson(\"esp2025_authors.ndjson\")\n",
    "authorships = load_ndjson(\"esp2025_authorships.ndjson\")"
   ]
  },
  {
   "cell_type": "code",
   "execution_count": null,
   "id": "56fb3753",
   "metadata": {},
   "outputs": [],
   "source": [
    "articles"
   ]
  },
  {
   "cell_type": "markdown",
   "id": "f59dbec7",
   "metadata": {},
   "source": [
    "## Build co-authorship matrix\n",
    "(incl. Resolving many-to-many relationship)"
   ]
  },
  {
   "cell_type": "code",
   "execution_count": null,
   "id": "a38643b8",
   "metadata": {},
   "outputs": [],
   "source": [
    "coauthorship = build_coauthorship_matrix(authors, authorships)"
   ]
  },
  {
   "cell_type": "code",
   "execution_count": null,
   "id": "2008c6f7",
   "metadata": {},
   "outputs": [],
   "source": [
    "assert coauthorship[1, 2] == 0  # Author 1 and 2 are not coauthors"
   ]
  },
  {
   "cell_type": "code",
   "execution_count": null,
   "id": "d53ec708",
   "metadata": {},
   "outputs": [],
   "source": [
    "assert coauthorship[1, 4998] == 1 # Author 1 and 4998 wrote a publication together"
   ]
  },
  {
   "cell_type": "markdown",
   "id": "270df8f5",
   "metadata": {},
   "source": [
    "## Find shortest path"
   ]
  },
  {
   "cell_type": "code",
   "execution_count": null,
   "id": "26b4364f",
   "metadata": {},
   "outputs": [],
   "source": [
    "authors.iloc[4], authors.iloc[990]"
   ]
  },
  {
   "cell_type": "code",
   "execution_count": null,
   "id": "e3d95f11",
   "metadata": {},
   "outputs": [],
   "source": [
    "erdos(coauthorship, 4, 990)"
   ]
  },
  {
   "cell_type": "code",
   "execution_count": null,
   "id": "0ef9317a",
   "metadata": {},
   "outputs": [],
   "source": []
  }
 ],
 "metadata": {
  "kernelspec": {
   "display_name": "tutorial",
   "language": "python",
   "name": "python3"
  },
  "language_info": {
   "codemirror_mode": {
    "name": "ipython",
    "version": 3
   },
   "file_extension": ".py",
   "mimetype": "text/x-python",
   "name": "python",
   "nbconvert_exporter": "python",
   "pygments_lexer": "ipython3",
   "version": "3.12.11"
  }
 },
 "nbformat": 4,
 "nbformat_minor": 5
}
